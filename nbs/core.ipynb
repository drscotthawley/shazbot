{
 "cells": [
  {
   "cell_type": "code",
   "execution_count": null,
   "metadata": {},
   "outputs": [],
   "source": [
    "#| default_exp core"
   ]
  },
  {
   "cell_type": "markdown",
   "metadata": {},
   "source": [
    "# core\n",
    "\n",
    "> Core routines for shazbot"
   ]
  },
  {
   "cell_type": "code",
   "execution_count": null,
   "metadata": {},
   "outputs": [],
   "source": [
    "#| hide\n",
    "from nbdev.showdoc import *"
   ]
  },
  {
   "cell_type": "code",
   "execution_count": null,
   "metadata": {},
   "outputs": [],
   "source": [
    "#| export \n",
    "import torch\n",
    "import torch.nn as nn\n",
    "import torch.nn.functional  as F \n",
    "import torchaudio\n",
    "from torchaudio import transforms as T\n",
    "import accelerate\n",
    "import tqdm\n",
    "from pathlib import Path\n",
    "import yaml\n",
    "import os"
   ]
  },
  {
   "cell_type": "markdown",
   "metadata": {},
   "source": [
    "## Audio utils"
   ]
  },
  {
   "cell_type": "code",
   "execution_count": null,
   "metadata": {},
   "outputs": [],
   "source": [
    "#| export\n",
    "def is_silence(\n",
    "    audio,       # torch tensor of multichannel audio\n",
    "    thresh=-70,  # threshold in dB below which we declare to be silence\n",
    "    ):\n",
    "    \"checks if entire clip is 'silence' below some dB threshold\"\n",
    "    dBmax = 20*torch.log10(torch.flatten(audio.abs()).max()).cpu().numpy()\n",
    "    return dBmax < thresh"
   ]
  },
  {
   "cell_type": "code",
   "execution_count": null,
   "metadata": {},
   "outputs": [],
   "source": [
    "# code tests\n",
    "x = torch.ones((2,10))\n",
    "assert not is_silence(1e-3*x) # not silent\n",
    "assert is_silence(1e-5*x) # silent\n",
    "assert is_silence(1e-3*x, thresh=-50) # higher thresh"
   ]
  },
  {
   "cell_type": "code",
   "execution_count": null,
   "metadata": {},
   "outputs": [],
   "source": [
    "#|export\n",
    "def load_audio(\n",
    "    filename:str,     # file to load\n",
    "    sr=48000,         # sample rate to read/resample at \n",
    "    )->torch.tensor:\n",
    "    \"this loads an audio file as a torch tensor\"\n",
    "    audio, in_sr = torchaudio.load(filename)\n",
    "    if in_sr != sr:\n",
    "        print(f\"Resampling {filename} from {in_sr} Hz to {sr} Hz\",flush=True)\n",
    "        resample_tf = T.Resample(in_sr, sr)\n",
    "        audio = resample_tf(audio)\n",
    "    return audio\n",
    "\n",
    "\n",
    "def makedir(\n",
    "    path:str,          # directory or nested directory\n",
    "    ):\n",
    "    \"creates directories where they don't exist\"\n",
    "    if os.path.isdir(path): return  # don't make it if it already exists\n",
    "    #print(f\"  Making directory {path}\")\n",
    "    try:\n",
    "        os.makedirs(path)  # recursively make all dirs named in path\n",
    "    except:                # don't really care about errors\n",
    "        pass"
   ]
  },
  {
   "cell_type": "markdown",
   "metadata": {},
   "source": [
    "## Parallelism utils"
   ]
  },
  {
   "cell_type": "code",
   "execution_count": null,
   "metadata": {},
   "outputs": [],
   "source": [
    "#|export \n",
    "def get_accel_config(filename='~/.cache/huggingface/accelerate/default_config.yaml'):\n",
    "    \"get huggingface accelerate config info\"\n",
    "    \n",
    "    # first try to use the default file\n",
    "    try:  \n",
    "        filename = filename.replace('~', str(Path.home()))\n",
    "        with open(filename, 'r') as file:\n",
    "            ac =  yaml.safe_load(file)\n",
    "    except OSError:\n",
    "        ac = {}\n",
    "        \n",
    "    # then update using any environment variables\n",
    "    if os.getenv('MAIN_PROCESS_IP') is not None: ac['main_process_ip'] = os.getenv('MAIN_PROCESS_IP')\n",
    "    if os.getenv('MACHINE_RANK')    is not None: ac['machine_rank']    = os.getenv('MACHINE_RANK')\n",
    "    if os.getenv('NUM_MACHINES')    is not None: ac['num_machines']    = os.getenv('NUM_MACHINES')\n",
    "    if os.getenv('NUM_PROCESSES')   is not None: ac['num_processes']   = os.getenv('NUM_PROCESSES')\n",
    "\n",
    "    return ac"
   ]
  },
  {
   "cell_type": "code",
   "execution_count": null,
   "metadata": {},
   "outputs": [
    {
     "name": "stdout",
     "output_type": "stream",
     "text": [
      "accel_config = {'compute_environment': 'LOCAL_MACHINE', 'deepspeed_config': {}, 'distributed_type': 'MULTI_GPU', 'fsdp_config': {}, 'machine_rank': 0, 'main_process_ip': '', 'main_process_port': 12456, 'main_training_function': 'main', 'mixed_precision': 'fp16', 'num_machines': 4, 'num_processes': 32, 'use_cpu': False}\n",
      "port = 12456\n"
     ]
    }
   ],
   "source": [
    "# test get_accel_config \n",
    "accel_config = get_accel_config()\n",
    "print(\"accel_config =\",accel_config)\n",
    "if accel_config:\n",
    "    print(\"port =\",accel_config['main_process_port'])"
   ]
  },
  {
   "cell_type": "code",
   "execution_count": null,
   "metadata": {},
   "outputs": [],
   "source": [
    "#|export        \n",
    "class HostPrinter():\n",
    "    \"lil accelerate utility for only printing on host node\"\n",
    "    def __init__(self, accelerator, tag='\\033[96m', untag='\\033[0m'): #added some colors\n",
    "        self.accelerator, self.tag, self.untag = accelerator, tag, untag\n",
    "    def __call__(self, s:str):\n",
    "        if self.accelerator.is_main_process:\n",
    "            print(self.tag + s + self.untag, flush=True)"
   ]
  },
  {
   "cell_type": "code",
   "execution_count": null,
   "metadata": {},
   "outputs": [
    {
     "name": "stdout",
     "output_type": "stream",
     "text": [
      "Using device: cuda\n"
     ]
    }
   ],
   "source": [
    "#test hostprinter\n",
    "accelerator = accelerate.Accelerator()\n",
    "device = accelerator.device\n",
    "hprint = HostPrinter(accelerator)\n",
    "hprint(f'Using device: {device}')"
   ]
  },
  {
   "cell_type": "markdown",
   "metadata": {},
   "source": [
    "## Utils for PyTorch models"
   ]
  },
  {
   "cell_type": "code",
   "execution_count": null,
   "metadata": {},
   "outputs": [],
   "source": [
    "#|export \n",
    "def save(accelerator, args, model, opt=None, epoch=None, step=None):\n",
    "    \"for checkpointing & model saves\"\n",
    "    accelerator.wait_for_everyone()\n",
    "    filename = f'{args.name}_{step:08}.pth' if (step is not None) else f'{args.name}.pth'\n",
    "    if accelerator.is_main_process:\n",
    "        tqdm.write(f'Saving to {filename}...')\n",
    "    obj = {'model': accelerator.unwrap_model(model).state_dict() }\n",
    "    if opt is not None:   obj['opt'] = opt.state_dict()\n",
    "    if epoch is not None: obj['epoch'] = epoch\n",
    "    if step is not None:  obj['step'] = step\n",
    "    accelerator.save(obj, filename)\n",
    "    \n",
    "\n",
    "def n_params(module):\n",
    "    \"\"\"Returns the number of trainable parameters in a module.\"\"\"\n",
    "    return sum(p.numel() for p in module.parameters())\n",
    "\n",
    "\n",
    "def freeze(model):\n",
    "    \"freezes model weights; turns off gradient info \"\n",
    "    for param in model.parameters():  \n",
    "        param.requires_grad = False"
   ]
  },
  {
   "cell_type": "markdown",
   "metadata": {},
   "source": [
    "### Activations: Mish & Swish"
   ]
  },
  {
   "cell_type": "code",
   "execution_count": null,
   "metadata": {},
   "outputs": [],
   "source": [
    "#|export \n",
    "\n",
    "# cf https://github.com/tyunist/memory_efficient_mish_swish\n",
    "class Mish_func(torch.autograd.Function):\n",
    "    @staticmethod\n",
    "    def forward(ctx, i):\n",
    "        result = i * torch.tanh(F.softplus(i))\n",
    "        ctx.save_for_backward(i)\n",
    "        return result\n",
    "\n",
    "    @staticmethod\n",
    "    def backward(ctx, grad_output):\n",
    "        i = ctx.saved_variables[0]\n",
    "  \n",
    "        v = 1. + i.exp()\n",
    "        h = v.log() \n",
    "        grad_gh = 1./h.cosh().pow_(2) \n",
    "\n",
    "        # Note that grad_hv * grad_vx = sigmoid(x)\n",
    "        #grad_hv = 1./v  \n",
    "        #grad_vx = i.exp()\n",
    "        \n",
    "        grad_hx = i.sigmoid()\n",
    "\n",
    "        grad_gx = grad_gh *  grad_hx #grad_hv * grad_vx \n",
    "        \n",
    "        grad_f =  torch.tanh(F.softplus(i)) + i * grad_gx \n",
    "        \n",
    "        return grad_output * grad_f \n",
    "\n",
    "\n",
    "class Mish(nn.Module):\n",
    "    def __init__(self, **kwargs):\n",
    "        super().__init__()\n",
    "        pass\n",
    "    def forward(self, input_tensor):\n",
    "        return Mish_func.apply(input_tensor)\n",
    "\n",
    "\n",
    "    \n",
    "class Swish_func(torch.autograd.Function):\n",
    "    @staticmethod\n",
    "    def forward(ctx, i):\n",
    "        result = i * torch.sigmoid(i)\n",
    "        ctx.save_for_backward(i)\n",
    "        return result\n",
    "\n",
    "    @staticmethod\n",
    "    def backward(ctx, grad_output):\n",
    "        i = ctx.saved_variables[0]\n",
    "        sigmoid_i = torch.sigmoid(i)\n",
    "        return grad_output * (sigmoid_i * (1 + i * (1 - sigmoid_i)))\n",
    "    \n",
    "\n",
    "class Swish(nn.Module):\n",
    "    def __init__(self, **kwargs):\n",
    "        super().__init__()\n",
    "        pass\n",
    "    def forward(self, input_tensor):\n",
    "        return Swish_func.apply(input_tensor)"
   ]
  },
  {
   "cell_type": "markdown",
   "metadata": {},
   "source": [
    "And let's see how those two functions compare"
   ]
  },
  {
   "cell_type": "code",
   "execution_count": null,
   "metadata": {},
   "outputs": [
    {
     "data": {
      "text/plain": [
       "<matplotlib.legend.Legend>"
      ]
     },
     "execution_count": null,
     "metadata": {},
     "output_type": "execute_result"
    },
    {
     "data": {
      "image/png": "[encoded data removed]",
      "text/plain": [
       "<Figure size 432x288 with 1 Axes>"
      ]
     },
     "metadata": {
      "needs_background": "light"
     },
     "output_type": "display_data"
    }
   ],
   "source": [
    "import matplotlib.pyplot as plt\n",
    "\n",
    "x = torch.linspace(-4,4,50)\n",
    "mish = Mish()\n",
    "swish = Swish()\n",
    "plt.plot(x, x*(x>0), label='relu')\n",
    "plt.plot(x, F.leaky_relu(x, negative_slope=0.05), label='leaky_relu')\n",
    "plt.plot(x, mish(x), label='mish')\n",
    "plt.plot(x, swish(x), label='swish')\n",
    "plt.legend()"
   ]
  },
  {
   "cell_type": "code",
   "execution_count": null,
   "metadata": {},
   "outputs": [],
   "source": []
  }
 ],
 "metadata": {
  "kernelspec": {
   "display_name": "Python 3.8.5 ('shazbot')",
   "language": "python",
   "name": "python3"
  }
 },
 "nbformat": 4,
 "nbformat_minor": 2
}
